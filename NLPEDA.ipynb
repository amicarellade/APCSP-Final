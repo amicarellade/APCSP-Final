{
  "nbformat": 4,
  "nbformat_minor": 0,
  "metadata": {
    "colab": {
      "provenance": [],
      "include_colab_link": true
    },
    "kernelspec": {
      "name": "python3",
      "display_name": "Python 3"
    },
    "language_info": {
      "name": "python"
    },
    "gpuClass": "standard"
  },
  "cells": [
    {
      "cell_type": "markdown",
      "metadata": {
        "id": "view-in-github",
        "colab_type": "text"
      },
      "source": [
        "<a href=\"https://colab.research.google.com/github/amicarellade/APCSP-Final/blob/master/NLPEDA.ipynb\" target=\"_parent\"><img src=\"https://colab.research.google.com/assets/colab-badge.svg\" alt=\"Open In Colab\"/></a>"
      ]
    },
    {
      "cell_type": "code",
      "execution_count": 1,
      "metadata": {
        "id": "AI-w5UgkgwIF"
      },
      "outputs": [],
      "source": [
        "import pandas as pd\n",
        "import matplotlib.pyplot as plt\n",
        "import numpy as np\n"
      ]
    },
    {
      "cell_type": "code",
      "source": [
        "#Matts directories\n",
        "business = pd.read_csv(\"/content/drive/MyDrive/WPI/Senior Year/NLP/CS525/yelp_filtered_business.csv\")\n",
        "filtered_review = pd.read_csv(\"/content/drive/MyDrive/WPI/Senior Year/NLP/CS525/yelp_filtered_review.csv\")\n",
        "#review = pd.read_csv(\"/content/drive/MyDrive/WPI/Senior Year/NLP/CS525/yelp_review.csv\")"
      ],
      "metadata": {
        "id": "I0FQc8nGh0KI"
      },
      "execution_count": null,
      "outputs": []
    },
    {
      "cell_type": "code",
      "source": [
        "from google.colab import drive\n",
        "drive.mount('/content/drive')"
      ],
      "metadata": {
        "id": "Y6i4UHY05nPQ",
        "outputId": "259de39f-b204-4f4c-ee95-f99c8c9abbfd",
        "colab": {
          "base_uri": "https://localhost:8080/"
        }
      },
      "execution_count": 5,
      "outputs": [
        {
          "output_type": "stream",
          "name": "stdout",
          "text": [
            "Mounted at /content/drive\n"
          ]
        }
      ]
    },
    {
      "cell_type": "code",
      "source": [
        "# !pip3 install pickle5"
      ],
      "metadata": {
        "id": "EViBhMeN6rSf",
        "outputId": "1daa9104-1bd8-4b30-c691-821246e9d377",
        "colab": {
          "base_uri": "https://localhost:8080/"
        }
      },
      "execution_count": 12,
      "outputs": [
        {
          "output_type": "stream",
          "name": "stdout",
          "text": [
            "Looking in indexes: https://pypi.org/simple, https://us-python.pkg.dev/colab-wheels/public/simple/\n",
            "Collecting pickle4\n",
            "  Downloading pickle4-0.0.1.tar.gz (19 kB)\n",
            "Requirement already satisfied: setuptools in /usr/local/lib/python3.7/dist-packages (from pickle4) (57.4.0)\n",
            "Building wheels for collected packages: pickle4\n",
            "  Building wheel for pickle4 (setup.py) ... \u001b[?25l\u001b[?25hdone\n",
            "  Created wheel for pickle4: filename=pickle4-0.0.1-py2.py3-none-any.whl size=19707 sha256=c9fed117f9e208162aa98764032ceda42cc84c9792d82eca4fd706adb4db3ceb\n",
            "  Stored in directory: /root/.cache/pip/wheels/a5/ab/c5/82811cb030f390be4b152c0b13d9c4263e31a2ccde83850516\n",
            "Successfully built pickle4\n",
            "Installing collected packages: pickle4\n",
            "Successfully installed pickle4-0.0.1\n"
          ]
        }
      ]
    },
    {
      "cell_type": "code",
      "source": [
        "# Dante directories\n",
        "import pickle5 as pickle\n",
        "import pickle as pkl\n",
        "with open(\"/content/drive/MyDrive/ST: NLP/yelp_merged.pkl\", \"rb\") as f:\n",
        "  apkl = pickle.load(f)\n",
        "df = pd.DataFrame(apkl)"
      ],
      "metadata": {
        "id": "tC55St9e4QAy"
      },
      "execution_count": 18,
      "outputs": []
    },
    {
      "cell_type": "code",
      "source": [
        "df"
      ],
      "metadata": {
        "id": "YM_39I1z9YDT",
        "outputId": "ca203a02-3478-4aba-f6c5-e07ca8b1e19f",
        "colab": {
          "base_uri": "https://localhost:8080/",
          "height": 424
        }
      },
      "execution_count": 19,
      "outputs": [
        {
          "output_type": "execute_result",
          "data": {
            "text/plain": [
              "                  business_id  stars  review_count  \\\n",
              "0      MTSW4McQd7CbVtyjqoe9mw    4.0            80   \n",
              "1      0bPLkL0QhhPO5kt1_EXmNQ    4.5           100   \n",
              "2      MUTTqe8uqyMdBl186RmNeA    4.0           245   \n",
              "3      ROeacJQwBeh05Rqg7F6TCg    4.5           205   \n",
              "4      9OG5YkX1g2GReZM0AskizA    2.5           339   \n",
              "...                       ...    ...           ...   \n",
              "29250  wVxXRFf10zTTAs11nr4xeA    3.0            55   \n",
              "29251  WXNag-tmudrFHFlfNLogWg    4.0            71   \n",
              "29252  2MAQeAqmD8enCT2ZYqUgIQ    4.0           204   \n",
              "29253  w_4xUt-1AyY2ZwKtnjW0Xg    4.5           998   \n",
              "29254  qQ7FHvkGEMqoPKKXPk4gjA    2.5            67   \n",
              "\n",
              "                                                    tips  \\\n",
              "0      [Love their pastries and drinks!, Really good ...   \n",
              "1      [Always a pleasant experience. The food is fre...   \n",
              "2      [Get the shrimp toast!, Soft opening now.\\n\\nh...   \n",
              "3      [They're open on Sunday's until 9 pm!, Small p...   \n",
              "4      [Yummy eggplant quadratini!, Lunch with a pet ...   \n",
              "...                                                  ...   \n",
              "29250  [Primos nuff said, Call in cause there's a lit...   \n",
              "29251  [Got donations?, Saturday's & Sunday's $3 mimo...   \n",
              "29252  [Good all around- not just for date night anym...   \n",
              "29253  [It's pretty good I think they could work on c...   \n",
              "29254  [The room was a dump. Shredded couch cushions,...   \n",
              "\n",
              "                                                   dates  \\\n",
              "0      [2010-08-18 17:05:36, 2010-11-25 17:45:31, 201...   \n",
              "1      [2010-08-26 17:52:51, 2011-02-13 00:43:54, 201...   \n",
              "2      [2017-11-25 02:28:19, 2017-11-28 23:17:19, 201...   \n",
              "3      [2013-12-06 22:32:24, 2013-12-18 02:03:03, 201...   \n",
              "4      [2010-11-11 14:05:01, 2010-12-31 20:24:03, 201...   \n",
              "...                                                  ...   \n",
              "29250  [2010-04-20 14:44:26, 2010-05-03 22:49:12, 201...   \n",
              "29251  [2016-05-25 19:46:51, 2016-05-25 22:41:25, 201...   \n",
              "29252  [2010-07-16 02:45:16, 2010-08-26 01:22:42, 201...   \n",
              "29253  [2010-05-07 01:02:09, 2010-05-08 20:25:27, 201...   \n",
              "29254  [2010-08-16 01:58:15, 2011-04-22 04:11:13, 201...   \n",
              "\n",
              "                                                 reviews  \n",
              "0      [This is nice little Chinese bakery in the hea...  \n",
              "1      [The worst Chicken Parm. Sandwich I've ever ea...  \n",
              "2      [Stopped in to check out this new spot around ...  \n",
              "3      [This place is fantastic!  Delicious, simple, ...  \n",
              "4      [Great bar Happy Hour 4-7 every day. Wine & Dr...  \n",
              "...                                                  ...  \n",
              "29250  [If you're looking for a good hoagie, go with ...  \n",
              "29251  [Happy hour and bar are amazing! $3 wine, beer...  \n",
              "29252  [We ended up leaving...\\nWe had made a reserva...  \n",
              "29253  [I must say that this place is amazing. Comfor...  \n",
              "29254  [On my way back to San Diego from Atlanta. \\n\\...  \n",
              "\n",
              "[29255 rows x 6 columns]"
            ],
            "text/html": [
              "\n",
              "  <div id=\"df-6090d8e3-deb7-40c5-98d1-e5db51ce5716\">\n",
              "    <div class=\"colab-df-container\">\n",
              "      <div>\n",
              "<style scoped>\n",
              "    .dataframe tbody tr th:only-of-type {\n",
              "        vertical-align: middle;\n",
              "    }\n",
              "\n",
              "    .dataframe tbody tr th {\n",
              "        vertical-align: top;\n",
              "    }\n",
              "\n",
              "    .dataframe thead th {\n",
              "        text-align: right;\n",
              "    }\n",
              "</style>\n",
              "<table border=\"1\" class=\"dataframe\">\n",
              "  <thead>\n",
              "    <tr style=\"text-align: right;\">\n",
              "      <th></th>\n",
              "      <th>business_id</th>\n",
              "      <th>stars</th>\n",
              "      <th>review_count</th>\n",
              "      <th>tips</th>\n",
              "      <th>dates</th>\n",
              "      <th>reviews</th>\n",
              "    </tr>\n",
              "  </thead>\n",
              "  <tbody>\n",
              "    <tr>\n",
              "      <th>0</th>\n",
              "      <td>MTSW4McQd7CbVtyjqoe9mw</td>\n",
              "      <td>4.0</td>\n",
              "      <td>80</td>\n",
              "      <td>[Love their pastries and drinks!, Really good ...</td>\n",
              "      <td>[2010-08-18 17:05:36, 2010-11-25 17:45:31, 201...</td>\n",
              "      <td>[This is nice little Chinese bakery in the hea...</td>\n",
              "    </tr>\n",
              "    <tr>\n",
              "      <th>1</th>\n",
              "      <td>0bPLkL0QhhPO5kt1_EXmNQ</td>\n",
              "      <td>4.5</td>\n",
              "      <td>100</td>\n",
              "      <td>[Always a pleasant experience. The food is fre...</td>\n",
              "      <td>[2010-08-26 17:52:51, 2011-02-13 00:43:54, 201...</td>\n",
              "      <td>[The worst Chicken Parm. Sandwich I've ever ea...</td>\n",
              "    </tr>\n",
              "    <tr>\n",
              "      <th>2</th>\n",
              "      <td>MUTTqe8uqyMdBl186RmNeA</td>\n",
              "      <td>4.0</td>\n",
              "      <td>245</td>\n",
              "      <td>[Get the shrimp toast!, Soft opening now.\\n\\nh...</td>\n",
              "      <td>[2017-11-25 02:28:19, 2017-11-28 23:17:19, 201...</td>\n",
              "      <td>[Stopped in to check out this new spot around ...</td>\n",
              "    </tr>\n",
              "    <tr>\n",
              "      <th>3</th>\n",
              "      <td>ROeacJQwBeh05Rqg7F6TCg</td>\n",
              "      <td>4.5</td>\n",
              "      <td>205</td>\n",
              "      <td>[They're open on Sunday's until 9 pm!, Small p...</td>\n",
              "      <td>[2013-12-06 22:32:24, 2013-12-18 02:03:03, 201...</td>\n",
              "      <td>[This place is fantastic!  Delicious, simple, ...</td>\n",
              "    </tr>\n",
              "    <tr>\n",
              "      <th>4</th>\n",
              "      <td>9OG5YkX1g2GReZM0AskizA</td>\n",
              "      <td>2.5</td>\n",
              "      <td>339</td>\n",
              "      <td>[Yummy eggplant quadratini!, Lunch with a pet ...</td>\n",
              "      <td>[2010-11-11 14:05:01, 2010-12-31 20:24:03, 201...</td>\n",
              "      <td>[Great bar Happy Hour 4-7 every day. Wine &amp; Dr...</td>\n",
              "    </tr>\n",
              "    <tr>\n",
              "      <th>...</th>\n",
              "      <td>...</td>\n",
              "      <td>...</td>\n",
              "      <td>...</td>\n",
              "      <td>...</td>\n",
              "      <td>...</td>\n",
              "      <td>...</td>\n",
              "    </tr>\n",
              "    <tr>\n",
              "      <th>29250</th>\n",
              "      <td>wVxXRFf10zTTAs11nr4xeA</td>\n",
              "      <td>3.0</td>\n",
              "      <td>55</td>\n",
              "      <td>[Primos nuff said, Call in cause there's a lit...</td>\n",
              "      <td>[2010-04-20 14:44:26, 2010-05-03 22:49:12, 201...</td>\n",
              "      <td>[If you're looking for a good hoagie, go with ...</td>\n",
              "    </tr>\n",
              "    <tr>\n",
              "      <th>29251</th>\n",
              "      <td>WXNag-tmudrFHFlfNLogWg</td>\n",
              "      <td>4.0</td>\n",
              "      <td>71</td>\n",
              "      <td>[Got donations?, Saturday's &amp; Sunday's $3 mimo...</td>\n",
              "      <td>[2016-05-25 19:46:51, 2016-05-25 22:41:25, 201...</td>\n",
              "      <td>[Happy hour and bar are amazing! $3 wine, beer...</td>\n",
              "    </tr>\n",
              "    <tr>\n",
              "      <th>29252</th>\n",
              "      <td>2MAQeAqmD8enCT2ZYqUgIQ</td>\n",
              "      <td>4.0</td>\n",
              "      <td>204</td>\n",
              "      <td>[Good all around- not just for date night anym...</td>\n",
              "      <td>[2010-07-16 02:45:16, 2010-08-26 01:22:42, 201...</td>\n",
              "      <td>[We ended up leaving...\\nWe had made a reserva...</td>\n",
              "    </tr>\n",
              "    <tr>\n",
              "      <th>29253</th>\n",
              "      <td>w_4xUt-1AyY2ZwKtnjW0Xg</td>\n",
              "      <td>4.5</td>\n",
              "      <td>998</td>\n",
              "      <td>[It's pretty good I think they could work on c...</td>\n",
              "      <td>[2010-05-07 01:02:09, 2010-05-08 20:25:27, 201...</td>\n",
              "      <td>[I must say that this place is amazing. Comfor...</td>\n",
              "    </tr>\n",
              "    <tr>\n",
              "      <th>29254</th>\n",
              "      <td>qQ7FHvkGEMqoPKKXPk4gjA</td>\n",
              "      <td>2.5</td>\n",
              "      <td>67</td>\n",
              "      <td>[The room was a dump. Shredded couch cushions,...</td>\n",
              "      <td>[2010-08-16 01:58:15, 2011-04-22 04:11:13, 201...</td>\n",
              "      <td>[On my way back to San Diego from Atlanta. \\n\\...</td>\n",
              "    </tr>\n",
              "  </tbody>\n",
              "</table>\n",
              "<p>29255 rows × 6 columns</p>\n",
              "</div>\n",
              "      <button class=\"colab-df-convert\" onclick=\"convertToInteractive('df-6090d8e3-deb7-40c5-98d1-e5db51ce5716')\"\n",
              "              title=\"Convert this dataframe to an interactive table.\"\n",
              "              style=\"display:none;\">\n",
              "        \n",
              "  <svg xmlns=\"http://www.w3.org/2000/svg\" height=\"24px\"viewBox=\"0 0 24 24\"\n",
              "       width=\"24px\">\n",
              "    <path d=\"M0 0h24v24H0V0z\" fill=\"none\"/>\n",
              "    <path d=\"M18.56 5.44l.94 2.06.94-2.06 2.06-.94-2.06-.94-.94-2.06-.94 2.06-2.06.94zm-11 1L8.5 8.5l.94-2.06 2.06-.94-2.06-.94L8.5 2.5l-.94 2.06-2.06.94zm10 10l.94 2.06.94-2.06 2.06-.94-2.06-.94-.94-2.06-.94 2.06-2.06.94z\"/><path d=\"M17.41 7.96l-1.37-1.37c-.4-.4-.92-.59-1.43-.59-.52 0-1.04.2-1.43.59L10.3 9.45l-7.72 7.72c-.78.78-.78 2.05 0 2.83L4 21.41c.39.39.9.59 1.41.59.51 0 1.02-.2 1.41-.59l7.78-7.78 2.81-2.81c.8-.78.8-2.07 0-2.86zM5.41 20L4 18.59l7.72-7.72 1.47 1.35L5.41 20z\"/>\n",
              "  </svg>\n",
              "      </button>\n",
              "      \n",
              "  <style>\n",
              "    .colab-df-container {\n",
              "      display:flex;\n",
              "      flex-wrap:wrap;\n",
              "      gap: 12px;\n",
              "    }\n",
              "\n",
              "    .colab-df-convert {\n",
              "      background-color: #E8F0FE;\n",
              "      border: none;\n",
              "      border-radius: 50%;\n",
              "      cursor: pointer;\n",
              "      display: none;\n",
              "      fill: #1967D2;\n",
              "      height: 32px;\n",
              "      padding: 0 0 0 0;\n",
              "      width: 32px;\n",
              "    }\n",
              "\n",
              "    .colab-df-convert:hover {\n",
              "      background-color: #E2EBFA;\n",
              "      box-shadow: 0px 1px 2px rgba(60, 64, 67, 0.3), 0px 1px 3px 1px rgba(60, 64, 67, 0.15);\n",
              "      fill: #174EA6;\n",
              "    }\n",
              "\n",
              "    [theme=dark] .colab-df-convert {\n",
              "      background-color: #3B4455;\n",
              "      fill: #D2E3FC;\n",
              "    }\n",
              "\n",
              "    [theme=dark] .colab-df-convert:hover {\n",
              "      background-color: #434B5C;\n",
              "      box-shadow: 0px 1px 3px 1px rgba(0, 0, 0, 0.15);\n",
              "      filter: drop-shadow(0px 1px 2px rgba(0, 0, 0, 0.3));\n",
              "      fill: #FFFFFF;\n",
              "    }\n",
              "  </style>\n",
              "\n",
              "      <script>\n",
              "        const buttonEl =\n",
              "          document.querySelector('#df-6090d8e3-deb7-40c5-98d1-e5db51ce5716 button.colab-df-convert');\n",
              "        buttonEl.style.display =\n",
              "          google.colab.kernel.accessAllowed ? 'block' : 'none';\n",
              "\n",
              "        async function convertToInteractive(key) {\n",
              "          const element = document.querySelector('#df-6090d8e3-deb7-40c5-98d1-e5db51ce5716');\n",
              "          const dataTable =\n",
              "            await google.colab.kernel.invokeFunction('convertToInteractive',\n",
              "                                                     [key], {});\n",
              "          if (!dataTable) return;\n",
              "\n",
              "          const docLinkHtml = 'Like what you see? Visit the ' +\n",
              "            '<a target=\"_blank\" href=https://colab.research.google.com/notebooks/data_table.ipynb>data table notebook</a>'\n",
              "            + ' to learn more about interactive tables.';\n",
              "          element.innerHTML = '';\n",
              "          dataTable['output_type'] = 'display_data';\n",
              "          await google.colab.output.renderOutput(dataTable, element);\n",
              "          const docLink = document.createElement('div');\n",
              "          docLink.innerHTML = docLinkHtml;\n",
              "          element.appendChild(docLink);\n",
              "        }\n",
              "      </script>\n",
              "    </div>\n",
              "  </div>\n",
              "  "
            ]
          },
          "metadata": {},
          "execution_count": 19
        }
      ]
    },
    {
      "cell_type": "markdown",
      "source": [
        "##Eploratory Data Analysis"
      ],
      "metadata": {
        "id": "jPPQOXhYpdSg"
      }
    },
    {
      "cell_type": "code",
      "source": [
        "#Retrieving Data shape and output\n",
        "print(filtered_review.shape)\n",
        "filtered_review.head()"
      ],
      "metadata": {
        "colab": {
          "base_uri": "https://localhost:8080/",
          "height": 372
        },
        "id": "iNCwvU5djxJr",
        "outputId": "3c796fc7-448f-4329-d47c-62d2aa61adce"
      },
      "execution_count": null,
      "outputs": [
        {
          "output_type": "stream",
          "name": "stdout",
          "text": [
            "(5066392, 10)\n"
          ]
        },
        {
          "output_type": "execute_result",
          "data": {
            "text/plain": [
              "   Unnamed: 0               review_id                 user_id  \\\n",
              "0           0  KU_O5udG6zpxOg-VcAEodg  mh_-eMZ6K5RLWhZyISBhwA   \n",
              "1           1  BiTunyQ73aT9WBnpR9DZGw  OyoGAe7OKpv6SyGZT5g77Q   \n",
              "2           3  AqPFMleE6RsU23_auESxiA  _7bHUi9Uuf5__HHc_Q8guQ   \n",
              "3           5  JrIxlS1TzJ-iCu79ul40cQ  eUta8W_HdHMXPzLBBZhL1A   \n",
              "4           6  6AxgBCNX_PNTOxmbRSwcKQ  r3zeYsv1XFBRA4dJpL78cw   \n",
              "\n",
              "              business_id  stars  useful  funny  cool  \\\n",
              "0  XQfwVwDr-v0ZS3_CbbE5Xw    3.0       0      0     0   \n",
              "1  7ATYjTIgM3jUlt4UM3IypQ    5.0       1      0     1   \n",
              "2  kxX2SOes4o-D3ZQBkiMRfA    5.0       1      0     1   \n",
              "3  04UD14gamNjLY0IDYVhHJg    1.0       1      2     1   \n",
              "4  gmjsEdUsKpj9Xxu6pdjH0g    5.0       0      2     0   \n",
              "\n",
              "                                                text                 date  \n",
              "0  If you decide to eat here, just be aware it is...  2018-07-07 22:09:11  \n",
              "1  I've taken a lot of spin classes over the year...  2012-01-03 15:28:18  \n",
              "2  Wow!  Yummy, different,  delicious.   Our favo...  2015-01-04 00:01:03  \n",
              "3  I am a long term frequent customer of this est...  2015-09-23 23:10:31  \n",
              "4  Loved this tour! I grabbed a groupon and the p...  2015-01-03 23:21:18  "
            ],
            "text/html": [
              "\n",
              "  <div id=\"df-54e055af-eedc-4bc9-841a-87c41c7d53cf\">\n",
              "    <div class=\"colab-df-container\">\n",
              "      <div>\n",
              "<style scoped>\n",
              "    .dataframe tbody tr th:only-of-type {\n",
              "        vertical-align: middle;\n",
              "    }\n",
              "\n",
              "    .dataframe tbody tr th {\n",
              "        vertical-align: top;\n",
              "    }\n",
              "\n",
              "    .dataframe thead th {\n",
              "        text-align: right;\n",
              "    }\n",
              "</style>\n",
              "<table border=\"1\" class=\"dataframe\">\n",
              "  <thead>\n",
              "    <tr style=\"text-align: right;\">\n",
              "      <th></th>\n",
              "      <th>Unnamed: 0</th>\n",
              "      <th>review_id</th>\n",
              "      <th>user_id</th>\n",
              "      <th>business_id</th>\n",
              "      <th>stars</th>\n",
              "      <th>useful</th>\n",
              "      <th>funny</th>\n",
              "      <th>cool</th>\n",
              "      <th>text</th>\n",
              "      <th>date</th>\n",
              "    </tr>\n",
              "  </thead>\n",
              "  <tbody>\n",
              "    <tr>\n",
              "      <th>0</th>\n",
              "      <td>0</td>\n",
              "      <td>KU_O5udG6zpxOg-VcAEodg</td>\n",
              "      <td>mh_-eMZ6K5RLWhZyISBhwA</td>\n",
              "      <td>XQfwVwDr-v0ZS3_CbbE5Xw</td>\n",
              "      <td>3.0</td>\n",
              "      <td>0</td>\n",
              "      <td>0</td>\n",
              "      <td>0</td>\n",
              "      <td>If you decide to eat here, just be aware it is...</td>\n",
              "      <td>2018-07-07 22:09:11</td>\n",
              "    </tr>\n",
              "    <tr>\n",
              "      <th>1</th>\n",
              "      <td>1</td>\n",
              "      <td>BiTunyQ73aT9WBnpR9DZGw</td>\n",
              "      <td>OyoGAe7OKpv6SyGZT5g77Q</td>\n",
              "      <td>7ATYjTIgM3jUlt4UM3IypQ</td>\n",
              "      <td>5.0</td>\n",
              "      <td>1</td>\n",
              "      <td>0</td>\n",
              "      <td>1</td>\n",
              "      <td>I've taken a lot of spin classes over the year...</td>\n",
              "      <td>2012-01-03 15:28:18</td>\n",
              "    </tr>\n",
              "    <tr>\n",
              "      <th>2</th>\n",
              "      <td>3</td>\n",
              "      <td>AqPFMleE6RsU23_auESxiA</td>\n",
              "      <td>_7bHUi9Uuf5__HHc_Q8guQ</td>\n",
              "      <td>kxX2SOes4o-D3ZQBkiMRfA</td>\n",
              "      <td>5.0</td>\n",
              "      <td>1</td>\n",
              "      <td>0</td>\n",
              "      <td>1</td>\n",
              "      <td>Wow!  Yummy, different,  delicious.   Our favo...</td>\n",
              "      <td>2015-01-04 00:01:03</td>\n",
              "    </tr>\n",
              "    <tr>\n",
              "      <th>3</th>\n",
              "      <td>5</td>\n",
              "      <td>JrIxlS1TzJ-iCu79ul40cQ</td>\n",
              "      <td>eUta8W_HdHMXPzLBBZhL1A</td>\n",
              "      <td>04UD14gamNjLY0IDYVhHJg</td>\n",
              "      <td>1.0</td>\n",
              "      <td>1</td>\n",
              "      <td>2</td>\n",
              "      <td>1</td>\n",
              "      <td>I am a long term frequent customer of this est...</td>\n",
              "      <td>2015-09-23 23:10:31</td>\n",
              "    </tr>\n",
              "    <tr>\n",
              "      <th>4</th>\n",
              "      <td>6</td>\n",
              "      <td>6AxgBCNX_PNTOxmbRSwcKQ</td>\n",
              "      <td>r3zeYsv1XFBRA4dJpL78cw</td>\n",
              "      <td>gmjsEdUsKpj9Xxu6pdjH0g</td>\n",
              "      <td>5.0</td>\n",
              "      <td>0</td>\n",
              "      <td>2</td>\n",
              "      <td>0</td>\n",
              "      <td>Loved this tour! I grabbed a groupon and the p...</td>\n",
              "      <td>2015-01-03 23:21:18</td>\n",
              "    </tr>\n",
              "  </tbody>\n",
              "</table>\n",
              "</div>\n",
              "      <button class=\"colab-df-convert\" onclick=\"convertToInteractive('df-54e055af-eedc-4bc9-841a-87c41c7d53cf')\"\n",
              "              title=\"Convert this dataframe to an interactive table.\"\n",
              "              style=\"display:none;\">\n",
              "        \n",
              "  <svg xmlns=\"http://www.w3.org/2000/svg\" height=\"24px\"viewBox=\"0 0 24 24\"\n",
              "       width=\"24px\">\n",
              "    <path d=\"M0 0h24v24H0V0z\" fill=\"none\"/>\n",
              "    <path d=\"M18.56 5.44l.94 2.06.94-2.06 2.06-.94-2.06-.94-.94-2.06-.94 2.06-2.06.94zm-11 1L8.5 8.5l.94-2.06 2.06-.94-2.06-.94L8.5 2.5l-.94 2.06-2.06.94zm10 10l.94 2.06.94-2.06 2.06-.94-2.06-.94-.94-2.06-.94 2.06-2.06.94z\"/><path d=\"M17.41 7.96l-1.37-1.37c-.4-.4-.92-.59-1.43-.59-.52 0-1.04.2-1.43.59L10.3 9.45l-7.72 7.72c-.78.78-.78 2.05 0 2.83L4 21.41c.39.39.9.59 1.41.59.51 0 1.02-.2 1.41-.59l7.78-7.78 2.81-2.81c.8-.78.8-2.07 0-2.86zM5.41 20L4 18.59l7.72-7.72 1.47 1.35L5.41 20z\"/>\n",
              "  </svg>\n",
              "      </button>\n",
              "      \n",
              "  <style>\n",
              "    .colab-df-container {\n",
              "      display:flex;\n",
              "      flex-wrap:wrap;\n",
              "      gap: 12px;\n",
              "    }\n",
              "\n",
              "    .colab-df-convert {\n",
              "      background-color: #E8F0FE;\n",
              "      border: none;\n",
              "      border-radius: 50%;\n",
              "      cursor: pointer;\n",
              "      display: none;\n",
              "      fill: #1967D2;\n",
              "      height: 32px;\n",
              "      padding: 0 0 0 0;\n",
              "      width: 32px;\n",
              "    }\n",
              "\n",
              "    .colab-df-convert:hover {\n",
              "      background-color: #E2EBFA;\n",
              "      box-shadow: 0px 1px 2px rgba(60, 64, 67, 0.3), 0px 1px 3px 1px rgba(60, 64, 67, 0.15);\n",
              "      fill: #174EA6;\n",
              "    }\n",
              "\n",
              "    [theme=dark] .colab-df-convert {\n",
              "      background-color: #3B4455;\n",
              "      fill: #D2E3FC;\n",
              "    }\n",
              "\n",
              "    [theme=dark] .colab-df-convert:hover {\n",
              "      background-color: #434B5C;\n",
              "      box-shadow: 0px 1px 3px 1px rgba(0, 0, 0, 0.15);\n",
              "      filter: drop-shadow(0px 1px 2px rgba(0, 0, 0, 0.3));\n",
              "      fill: #FFFFFF;\n",
              "    }\n",
              "  </style>\n",
              "\n",
              "      <script>\n",
              "        const buttonEl =\n",
              "          document.querySelector('#df-54e055af-eedc-4bc9-841a-87c41c7d53cf button.colab-df-convert');\n",
              "        buttonEl.style.display =\n",
              "          google.colab.kernel.accessAllowed ? 'block' : 'none';\n",
              "\n",
              "        async function convertToInteractive(key) {\n",
              "          const element = document.querySelector('#df-54e055af-eedc-4bc9-841a-87c41c7d53cf');\n",
              "          const dataTable =\n",
              "            await google.colab.kernel.invokeFunction('convertToInteractive',\n",
              "                                                     [key], {});\n",
              "          if (!dataTable) return;\n",
              "\n",
              "          const docLinkHtml = 'Like what you see? Visit the ' +\n",
              "            '<a target=\"_blank\" href=https://colab.research.google.com/notebooks/data_table.ipynb>data table notebook</a>'\n",
              "            + ' to learn more about interactive tables.';\n",
              "          element.innerHTML = '';\n",
              "          dataTable['output_type'] = 'display_data';\n",
              "          await google.colab.output.renderOutput(dataTable, element);\n",
              "          const docLink = document.createElement('div');\n",
              "          docLink.innerHTML = docLinkHtml;\n",
              "          element.appendChild(docLink);\n",
              "        }\n",
              "      </script>\n",
              "    </div>\n",
              "  </div>\n",
              "  "
            ]
          },
          "metadata": {},
          "execution_count": 38
        }
      ]
    },
    {
      "cell_type": "code",
      "source": [
        "#Histogram of all reviews showing the count of stars\n",
        "bins = np.arange(7) -0.5\n",
        "plt.hist(filtered_review.stars, bins, alpha=0.5, histtype='bar', ec='black')\n",
        "plt.ylabel('Count (millions)')\n",
        "plt.title('Number of Stars Histogram')\n",
        "plt.xticks(range(6))\n",
        "plt.xlim([0, 6])\n",
        "\n",
        "plt.show()"
      ],
      "metadata": {
        "colab": {
          "base_uri": "https://localhost:8080/",
          "height": 281
        },
        "id": "wdtAVhD8mCoF",
        "outputId": "772c6a9b-015f-4ba2-dbc6-31e902cddb30"
      },
      "execution_count": null,
      "outputs": [
        {
          "output_type": "display_data",
          "data": {
            "text/plain": [
              "<Figure size 432x288 with 1 Axes>"
            ],
            "image/png": "[encoded data removed]"
          },
          "metadata": {
            "needs_background": "light"
          }
        }
      ]
    },
    {
      "cell_type": "code",
      "source": [
        "print(filtered_review.funny.unique())\n",
        "bins = np.arange(7) -0.5\n",
        "#plt.hist(filtered_review.funny, bins, alpha=0.5, histtype='bar', ec='black')\n",
        "plt.hist(filtered_review.funny, alpha=0.5, histtype='bar', ec='black')\n",
        "plt.ylabel('Count (millions)')\n",
        "plt.title('Number of Stars Histogram')\n",
        "#plt.xticks(range(6))\n",
        "#plt.xlim([0, 6])\n",
        "\n",
        "plt.show()"
      ],
      "metadata": {
        "colab": {
          "base_uri": "https://localhost:8080/",
          "height": 472
        },
        "id": "5GDclFnjpzr5",
        "outputId": "cc786747-742b-4fc3-cca4-70ef8c1e4ac4"
      },
      "execution_count": null,
      "outputs": [
        {
          "output_type": "stream",
          "name": "stdout",
          "text": [
            "[  0   2   5   1   3   4  12   6   9   7  11  26  10   8  25  18  15  13\n",
            "  21  16  14  24  17  22  20  38  19  27  23  32  28  39  33  40  44  30\n",
            "  42  34  29  37  88  35  48  43  54  45  68  46  67  65  62 113  61  57\n",
            "  31  47  53  75 141  36 105  78  52  58  74 133  76  93  71 254  63  49\n",
            "  83  86  81  59  55  92  41 101 103  97 129 130  82  56 107  60  94 114\n",
            "  79 139  73 169 251 200  85  64 222 143 181 179 190 175 277 126 127 167\n",
            " 135 256 146 112  77 152 144 235  95 228 240  84  99 232  89 106 202 236\n",
            " 116  51  72  87  66 134 283  50  69 191 117  -1  91 104 157  90  80 102\n",
            " 155  70 100 159 150 201 121  98 119 227 110  96 266 324 154 148 180 361\n",
            " 241 326 310 287 109 278 332 182 307 336 342 345 341 147 188 164 375 351\n",
            " 137 369 357 313 346 344 378 347 353 333 370 118 158 792 177 288]\n"
          ]
        },
        {
          "output_type": "display_data",
          "data": {
            "text/plain": [
              "<Figure size 432x288 with 1 Axes>"
            ],
            "image/png": "[encoded data removed]"
          },
          "metadata": {
            "needs_background": "light"
          }
        }
      ]
    },
    {
      "cell_type": "markdown",
      "source": [
        "# NER BERT"
      ],
      "metadata": {
        "id": "am4D1gWN38tR"
      }
    },
    {
      "cell_type": "code",
      "source": [],
      "metadata": {
        "id": "UPu-zBdd4A3C"
      },
      "execution_count": null,
      "outputs": []
    }
  ]
}